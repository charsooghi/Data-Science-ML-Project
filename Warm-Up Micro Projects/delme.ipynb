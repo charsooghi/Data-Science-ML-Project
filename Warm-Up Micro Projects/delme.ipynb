{
 "cells": [
  {
   "cell_type": "markdown",
   "metadata": {},
   "source": [
    "## ML Classificaiton, k Nearest Neighbors"
   ]
  },
  {
   "cell_type": "code",
   "execution_count": 2,
   "metadata": {},
   "outputs": [
    {
     "name": "stdout",
     "output_type": "stream",
     "text": [
      "The accuracy of the model is 97.37.\n"
     ]
    }
   ],
   "source": [
    "# Load data\n",
    "from sklearn.datasets import load_iris\n",
    "\n",
    "# Import SciKit Learn Logistic Regression Library\n",
    "from sklearn.neighbors import KNeighborsClassifier\n",
    "from sklearn.model_selection import train_test_split\n",
    "from sklearn.metrics import accuracy_score\n",
    "\n",
    "# Preparing x,y for classification\n",
    "x = load_iris().data\n",
    "y = load_iris().target\n",
    "\n",
    "# Import the kNeighbors Classifiers \n",
    "knn = KNeighborsClassifier(n_neighbors = 6)\n",
    "\n",
    "# Setup train and validation (test) datasets\n",
    "x_train, x_test, y_train, y_test = train_test_split(x,y)\n",
    "\n",
    "# Fit the data\n",
    "knn.fit(x_train,y_train)\n",
    "\n",
    "# Run a prediction\n",
    "y_predict = knn.predict(x_test)\n",
    "\n",
    "#Check the accuracy\n",
    "print('The accuracy of the model is {:.2f}.'.format(accuracy_score(y_test,y_predict)*100))"
   ]
  },
  {
   "cell_type": "code",
   "execution_count": 3,
   "metadata": {},
   "outputs": [
    {
     "data": {
      "text/plain": [
       "array([[7.7, 3. , 6.1, 2.3],\n",
       "       [5.4, 3.7, 1.5, 0.2],\n",
       "       [4.6, 3.4, 1.4, 0.3],\n",
       "       [6.3, 2.9, 5.6, 1.8],\n",
       "       [6.8, 3. , 5.5, 2.1],\n",
       "       [6.8, 3.2, 5.9, 2.3],\n",
       "       [6.5, 3. , 5.8, 2.2],\n",
       "       [6.5, 2.8, 4.6, 1.5],\n",
       "       [6.6, 3. , 4.4, 1.4],\n",
       "       [7.4, 2.8, 6.1, 1.9],\n",
       "       [7.3, 2.9, 6.3, 1.8],\n",
       "       [4.9, 3.1, 1.5, 0.2],\n",
       "       [5.5, 2.5, 4. , 1.3],\n",
       "       [6.3, 2.5, 4.9, 1.5],\n",
       "       [6.4, 3.2, 5.3, 2.3],\n",
       "       [6. , 2.2, 4. , 1. ],\n",
       "       [5.2, 3.4, 1.4, 0.2],\n",
       "       [5.1, 3.4, 1.5, 0.2],\n",
       "       [5.2, 3.5, 1.5, 0.2],\n",
       "       [6.7, 3.3, 5.7, 2.5],\n",
       "       [6.5, 3. , 5.5, 1.8],\n",
       "       [6.4, 2.8, 5.6, 2.1],\n",
       "       [5.2, 2.7, 3.9, 1.4],\n",
       "       [5. , 3.4, 1.6, 0.4],\n",
       "       [5. , 3.5, 1.3, 0.3],\n",
       "       [5.1, 3.5, 1.4, 0.3],\n",
       "       [5.8, 2.6, 4. , 1.2],\n",
       "       [5.2, 4.1, 1.5, 0.1],\n",
       "       [5.4, 3. , 4.5, 1.5],\n",
       "       [5.5, 3.5, 1.3, 0.2],\n",
       "       [5.1, 2.5, 3. , 1.1],\n",
       "       [7.1, 3. , 5.9, 2.1],\n",
       "       [5.4, 3.9, 1.7, 0.4],\n",
       "       [5.6, 3. , 4.5, 1.5],\n",
       "       [4.7, 3.2, 1.6, 0.2],\n",
       "       [6.3, 3.4, 5.6, 2.4],\n",
       "       [5. , 2. , 3.5, 1. ],\n",
       "       [4.8, 3. , 1.4, 0.3]])"
      ]
     },
     "execution_count": 3,
     "metadata": {},
     "output_type": "execute_result"
    }
   ],
   "source": [
    "x_test"
   ]
  },
  {
   "cell_type": "code",
   "execution_count": 4,
   "metadata": {},
   "outputs": [
    {
     "data": {
      "text/plain": [
       "array([2, 0, 0, 2, 2, 2, 2, 1, 1, 2, 2, 0, 1, 2, 2, 1, 0, 0, 0, 2, 2, 2,\n",
       "       1, 0, 0, 0, 1, 0, 1, 0, 1, 2, 0, 1, 0, 2, 1, 0])"
      ]
     },
     "execution_count": 4,
     "metadata": {},
     "output_type": "execute_result"
    }
   ],
   "source": [
    "y_predict"
   ]
  },
  {
   "cell_type": "code",
   "execution_count": null,
   "metadata": {},
   "outputs": [],
   "source": []
  }
 ],
 "metadata": {
  "kernelspec": {
   "display_name": "Python 3",
   "language": "python",
   "name": "python3"
  },
  "language_info": {
   "codemirror_mode": {
    "name": "ipython",
    "version": 3
   },
   "file_extension": ".py",
   "mimetype": "text/x-python",
   "name": "python",
   "nbconvert_exporter": "python",
   "pygments_lexer": "ipython3",
   "version": "3.7.6"
  }
 },
 "nbformat": 4,
 "nbformat_minor": 4
}
